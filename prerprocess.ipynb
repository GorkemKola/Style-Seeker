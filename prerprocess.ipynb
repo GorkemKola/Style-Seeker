{
 "cells": [
  {
   "cell_type": "code",
   "execution_count": 1,
   "metadata": {
    "ExecuteTime": {
     "end_time": "2024-01-13T12:25:57.688553200Z",
     "start_time": "2024-01-13T12:25:57.098412900Z"
    }
   },
   "outputs": [],
   "source": [
    "import pandas as pd\n",
    "import os\n",
    "import shutil"
   ]
  },
  {
   "cell_type": "code",
   "execution_count": 2,
   "metadata": {
    "ExecuteTime": {
     "end_time": "2024-01-13T12:25:57.775084400Z",
     "start_time": "2024-01-13T12:25:57.687541200Z"
    }
   },
   "outputs": [
    {
     "data": {
      "text/plain": "      id gender masterCategory subCategory  articleType baseColour  season  \\\n0  15970    Men        Apparel     Topwear       Shirts  Navy Blue    Fall   \n1  39386    Men        Apparel  Bottomwear        Jeans       Blue  Summer   \n2  59263  Women    Accessories     Watches      Watches     Silver  Winter   \n3  21379    Men        Apparel  Bottomwear  Track Pants      Black    Fall   \n4  53759    Men        Apparel     Topwear      Tshirts       Grey  Summer   \n\n     year   usage                             productDisplayName  \n0  2011.0  Casual               Turtle Check Men Navy Blue Shirt  \n1  2012.0  Casual             Peter England Men Party Blue Jeans  \n2  2016.0  Casual                       Titan Women Silver Watch  \n3  2011.0  Casual  Manchester United Men Solid Black Track Pants  \n4  2012.0  Casual                          Puma Men Grey T-shirt  ",
      "text/html": "<div>\n<style scoped>\n    .dataframe tbody tr th:only-of-type {\n        vertical-align: middle;\n    }\n\n    .dataframe tbody tr th {\n        vertical-align: top;\n    }\n\n    .dataframe thead th {\n        text-align: right;\n    }\n</style>\n<table border=\"1\" class=\"dataframe\">\n  <thead>\n    <tr style=\"text-align: right;\">\n      <th></th>\n      <th>id</th>\n      <th>gender</th>\n      <th>masterCategory</th>\n      <th>subCategory</th>\n      <th>articleType</th>\n      <th>baseColour</th>\n      <th>season</th>\n      <th>year</th>\n      <th>usage</th>\n      <th>productDisplayName</th>\n    </tr>\n  </thead>\n  <tbody>\n    <tr>\n      <th>0</th>\n      <td>15970</td>\n      <td>Men</td>\n      <td>Apparel</td>\n      <td>Topwear</td>\n      <td>Shirts</td>\n      <td>Navy Blue</td>\n      <td>Fall</td>\n      <td>2011.0</td>\n      <td>Casual</td>\n      <td>Turtle Check Men Navy Blue Shirt</td>\n    </tr>\n    <tr>\n      <th>1</th>\n      <td>39386</td>\n      <td>Men</td>\n      <td>Apparel</td>\n      <td>Bottomwear</td>\n      <td>Jeans</td>\n      <td>Blue</td>\n      <td>Summer</td>\n      <td>2012.0</td>\n      <td>Casual</td>\n      <td>Peter England Men Party Blue Jeans</td>\n    </tr>\n    <tr>\n      <th>2</th>\n      <td>59263</td>\n      <td>Women</td>\n      <td>Accessories</td>\n      <td>Watches</td>\n      <td>Watches</td>\n      <td>Silver</td>\n      <td>Winter</td>\n      <td>2016.0</td>\n      <td>Casual</td>\n      <td>Titan Women Silver Watch</td>\n    </tr>\n    <tr>\n      <th>3</th>\n      <td>21379</td>\n      <td>Men</td>\n      <td>Apparel</td>\n      <td>Bottomwear</td>\n      <td>Track Pants</td>\n      <td>Black</td>\n      <td>Fall</td>\n      <td>2011.0</td>\n      <td>Casual</td>\n      <td>Manchester United Men Solid Black Track Pants</td>\n    </tr>\n    <tr>\n      <th>4</th>\n      <td>53759</td>\n      <td>Men</td>\n      <td>Apparel</td>\n      <td>Topwear</td>\n      <td>Tshirts</td>\n      <td>Grey</td>\n      <td>Summer</td>\n      <td>2012.0</td>\n      <td>Casual</td>\n      <td>Puma Men Grey T-shirt</td>\n    </tr>\n  </tbody>\n</table>\n</div>"
     },
     "execution_count": 2,
     "metadata": {},
     "output_type": "execute_result"
    }
   ],
   "source": [
    "df = pd.read_csv('data/styles.csv', on_bad_lines='skip')\n",
    "df.head()"
   ]
  },
  {
   "cell_type": "code",
   "execution_count": 3,
   "metadata": {
    "ExecuteTime": {
     "end_time": "2024-01-13T12:25:57.789938100Z",
     "start_time": "2024-01-13T12:25:57.775084400Z"
    }
   },
   "outputs": [
    {
     "data": {
      "text/plain": "<bound method NDFrame.describe of           id gender masterCategory subCategory            articleType  \\\n0      15970    Men        Apparel     Topwear                 Shirts   \n1      39386    Men        Apparel  Bottomwear                  Jeans   \n2      59263  Women    Accessories     Watches                Watches   \n3      21379    Men        Apparel  Bottomwear            Track Pants   \n4      53759    Men        Apparel     Topwear                Tshirts   \n...      ...    ...            ...         ...                    ...   \n44419  17036    Men       Footwear       Shoes           Casual Shoes   \n44420   6461    Men       Footwear  Flip Flops             Flip Flops   \n44421  18842    Men        Apparel     Topwear                Tshirts   \n44422  46694  Women  Personal Care   Fragrance  Perfume and Body Mist   \n44423  51623  Women    Accessories     Watches                Watches   \n\n      baseColour  season    year   usage  \\\n0      Navy Blue    Fall  2011.0  Casual   \n1           Blue  Summer  2012.0  Casual   \n2         Silver  Winter  2016.0  Casual   \n3          Black    Fall  2011.0  Casual   \n4           Grey  Summer  2012.0  Casual   \n...          ...     ...     ...     ...   \n44419      White  Summer  2013.0  Casual   \n44420        Red  Summer  2011.0  Casual   \n44421       Blue    Fall  2011.0  Casual   \n44422       Blue  Spring  2017.0  Casual   \n44423       Pink  Winter  2016.0  Casual   \n\n                                    productDisplayName  \n0                     Turtle Check Men Navy Blue Shirt  \n1                   Peter England Men Party Blue Jeans  \n2                             Titan Women Silver Watch  \n3        Manchester United Men Solid Black Track Pants  \n4                                Puma Men Grey T-shirt  \n...                                                ...  \n44419                        Gas Men Caddy Casual Shoe  \n44420               Lotto Men's Soccer Track Flip Flop  \n44421             Puma Men Graphic Stellar Blue Tshirt  \n44422                   Rasasi Women Blue Lady Perfume  \n44423  Fossil Women Pink Dial Chronograph Watch ES3050  \n\n[44424 rows x 10 columns]>"
     },
     "execution_count": 3,
     "metadata": {},
     "output_type": "execute_result"
    }
   ],
   "source": [
    "df.describe"
   ]
  },
  {
   "cell_type": "code",
   "execution_count": 4,
   "metadata": {
    "ExecuteTime": {
     "end_time": "2024-01-13T12:25:57.840112800Z",
     "start_time": "2024-01-13T12:25:57.781643300Z"
    }
   },
   "outputs": [],
   "source": [
    "df['productDisplayName'] = df['productDisplayName'].apply(lambda x: str(x).replace('/', '\\\\'))"
   ]
  },
  {
   "cell_type": "code",
   "execution_count": 5,
   "metadata": {
    "ExecuteTime": {
     "end_time": "2024-01-13T12:25:59.620854100Z",
     "start_time": "2024-01-13T12:25:57.801236200Z"
    }
   },
   "outputs": [],
   "source": [
    "df['path'] = df['id'].apply(lambda x: os.path.join('data/images/', f'{x}.jpg'))\n",
    "df['new_path'] = df.apply(lambda x: os.path.join('data/new/', f'{x.id}_{x.gender}_{x.masterCategory}_{x.subCategory}_{x.articleType}_{x.baseColour}_{x.season}_{x.year}_{x.usage}_{x.productDisplayName}.jpg'),axis=1)"
   ]
  },
  {
   "cell_type": "code",
   "execution_count": 6,
   "metadata": {
    "ExecuteTime": {
     "end_time": "2024-01-13T12:25:59.651788800Z",
     "start_time": "2024-01-13T12:25:59.618837200Z"
    }
   },
   "outputs": [
    {
     "data": {
      "text/plain": "          id gender masterCategory subCategory            articleType  \\\n0      15970    Men        Apparel     Topwear                 Shirts   \n1      39386    Men        Apparel  Bottomwear                  Jeans   \n2      59263  Women    Accessories     Watches                Watches   \n3      21379    Men        Apparel  Bottomwear            Track Pants   \n4      53759    Men        Apparel     Topwear                Tshirts   \n...      ...    ...            ...         ...                    ...   \n44419  17036    Men       Footwear       Shoes           Casual Shoes   \n44420   6461    Men       Footwear  Flip Flops             Flip Flops   \n44421  18842    Men        Apparel     Topwear                Tshirts   \n44422  46694  Women  Personal Care   Fragrance  Perfume and Body Mist   \n44423  51623  Women    Accessories     Watches                Watches   \n\n      baseColour  season    year   usage  \\\n0      Navy Blue    Fall  2011.0  Casual   \n1           Blue  Summer  2012.0  Casual   \n2         Silver  Winter  2016.0  Casual   \n3          Black    Fall  2011.0  Casual   \n4           Grey  Summer  2012.0  Casual   \n...          ...     ...     ...     ...   \n44419      White  Summer  2013.0  Casual   \n44420        Red  Summer  2011.0  Casual   \n44421       Blue    Fall  2011.0  Casual   \n44422       Blue  Spring  2017.0  Casual   \n44423       Pink  Winter  2016.0  Casual   \n\n                                    productDisplayName                   path  \\\n0                     Turtle Check Men Navy Blue Shirt  data/images/15970.jpg   \n1                   Peter England Men Party Blue Jeans  data/images/39386.jpg   \n2                             Titan Women Silver Watch  data/images/59263.jpg   \n3        Manchester United Men Solid Black Track Pants  data/images/21379.jpg   \n4                                Puma Men Grey T-shirt  data/images/53759.jpg   \n...                                                ...                    ...   \n44419                        Gas Men Caddy Casual Shoe  data/images/17036.jpg   \n44420               Lotto Men's Soccer Track Flip Flop   data/images/6461.jpg   \n44421             Puma Men Graphic Stellar Blue Tshirt  data/images/18842.jpg   \n44422                   Rasasi Women Blue Lady Perfume  data/images/46694.jpg   \n44423  Fossil Women Pink Dial Chronograph Watch ES3050  data/images/51623.jpg   \n\n                                                new_path  \n0      data/new/15970_Men_Apparel_Topwear_Shirts_Navy...  \n1      data/new/39386_Men_Apparel_Bottomwear_Jeans_Bl...  \n2      data/new/59263_Women_Accessories_Watches_Watch...  \n3      data/new/21379_Men_Apparel_Bottomwear_Track Pa...  \n4      data/new/53759_Men_Apparel_Topwear_Tshirts_Gre...  \n...                                                  ...  \n44419  data/new/17036_Men_Footwear_Shoes_Casual Shoes...  \n44420  data/new/6461_Men_Footwear_Flip Flops_Flip Flo...  \n44421  data/new/18842_Men_Apparel_Topwear_Tshirts_Blu...  \n44422  data/new/46694_Women_Personal Care_Fragrance_P...  \n44423  data/new/51623_Women_Accessories_Watches_Watch...  \n\n[44424 rows x 12 columns]",
      "text/html": "<div>\n<style scoped>\n    .dataframe tbody tr th:only-of-type {\n        vertical-align: middle;\n    }\n\n    .dataframe tbody tr th {\n        vertical-align: top;\n    }\n\n    .dataframe thead th {\n        text-align: right;\n    }\n</style>\n<table border=\"1\" class=\"dataframe\">\n  <thead>\n    <tr style=\"text-align: right;\">\n      <th></th>\n      <th>id</th>\n      <th>gender</th>\n      <th>masterCategory</th>\n      <th>subCategory</th>\n      <th>articleType</th>\n      <th>baseColour</th>\n      <th>season</th>\n      <th>year</th>\n      <th>usage</th>\n      <th>productDisplayName</th>\n      <th>path</th>\n      <th>new_path</th>\n    </tr>\n  </thead>\n  <tbody>\n    <tr>\n      <th>0</th>\n      <td>15970</td>\n      <td>Men</td>\n      <td>Apparel</td>\n      <td>Topwear</td>\n      <td>Shirts</td>\n      <td>Navy Blue</td>\n      <td>Fall</td>\n      <td>2011.0</td>\n      <td>Casual</td>\n      <td>Turtle Check Men Navy Blue Shirt</td>\n      <td>data/images/15970.jpg</td>\n      <td>data/new/15970_Men_Apparel_Topwear_Shirts_Navy...</td>\n    </tr>\n    <tr>\n      <th>1</th>\n      <td>39386</td>\n      <td>Men</td>\n      <td>Apparel</td>\n      <td>Bottomwear</td>\n      <td>Jeans</td>\n      <td>Blue</td>\n      <td>Summer</td>\n      <td>2012.0</td>\n      <td>Casual</td>\n      <td>Peter England Men Party Blue Jeans</td>\n      <td>data/images/39386.jpg</td>\n      <td>data/new/39386_Men_Apparel_Bottomwear_Jeans_Bl...</td>\n    </tr>\n    <tr>\n      <th>2</th>\n      <td>59263</td>\n      <td>Women</td>\n      <td>Accessories</td>\n      <td>Watches</td>\n      <td>Watches</td>\n      <td>Silver</td>\n      <td>Winter</td>\n      <td>2016.0</td>\n      <td>Casual</td>\n      <td>Titan Women Silver Watch</td>\n      <td>data/images/59263.jpg</td>\n      <td>data/new/59263_Women_Accessories_Watches_Watch...</td>\n    </tr>\n    <tr>\n      <th>3</th>\n      <td>21379</td>\n      <td>Men</td>\n      <td>Apparel</td>\n      <td>Bottomwear</td>\n      <td>Track Pants</td>\n      <td>Black</td>\n      <td>Fall</td>\n      <td>2011.0</td>\n      <td>Casual</td>\n      <td>Manchester United Men Solid Black Track Pants</td>\n      <td>data/images/21379.jpg</td>\n      <td>data/new/21379_Men_Apparel_Bottomwear_Track Pa...</td>\n    </tr>\n    <tr>\n      <th>4</th>\n      <td>53759</td>\n      <td>Men</td>\n      <td>Apparel</td>\n      <td>Topwear</td>\n      <td>Tshirts</td>\n      <td>Grey</td>\n      <td>Summer</td>\n      <td>2012.0</td>\n      <td>Casual</td>\n      <td>Puma Men Grey T-shirt</td>\n      <td>data/images/53759.jpg</td>\n      <td>data/new/53759_Men_Apparel_Topwear_Tshirts_Gre...</td>\n    </tr>\n    <tr>\n      <th>...</th>\n      <td>...</td>\n      <td>...</td>\n      <td>...</td>\n      <td>...</td>\n      <td>...</td>\n      <td>...</td>\n      <td>...</td>\n      <td>...</td>\n      <td>...</td>\n      <td>...</td>\n      <td>...</td>\n      <td>...</td>\n    </tr>\n    <tr>\n      <th>44419</th>\n      <td>17036</td>\n      <td>Men</td>\n      <td>Footwear</td>\n      <td>Shoes</td>\n      <td>Casual Shoes</td>\n      <td>White</td>\n      <td>Summer</td>\n      <td>2013.0</td>\n      <td>Casual</td>\n      <td>Gas Men Caddy Casual Shoe</td>\n      <td>data/images/17036.jpg</td>\n      <td>data/new/17036_Men_Footwear_Shoes_Casual Shoes...</td>\n    </tr>\n    <tr>\n      <th>44420</th>\n      <td>6461</td>\n      <td>Men</td>\n      <td>Footwear</td>\n      <td>Flip Flops</td>\n      <td>Flip Flops</td>\n      <td>Red</td>\n      <td>Summer</td>\n      <td>2011.0</td>\n      <td>Casual</td>\n      <td>Lotto Men's Soccer Track Flip Flop</td>\n      <td>data/images/6461.jpg</td>\n      <td>data/new/6461_Men_Footwear_Flip Flops_Flip Flo...</td>\n    </tr>\n    <tr>\n      <th>44421</th>\n      <td>18842</td>\n      <td>Men</td>\n      <td>Apparel</td>\n      <td>Topwear</td>\n      <td>Tshirts</td>\n      <td>Blue</td>\n      <td>Fall</td>\n      <td>2011.0</td>\n      <td>Casual</td>\n      <td>Puma Men Graphic Stellar Blue Tshirt</td>\n      <td>data/images/18842.jpg</td>\n      <td>data/new/18842_Men_Apparel_Topwear_Tshirts_Blu...</td>\n    </tr>\n    <tr>\n      <th>44422</th>\n      <td>46694</td>\n      <td>Women</td>\n      <td>Personal Care</td>\n      <td>Fragrance</td>\n      <td>Perfume and Body Mist</td>\n      <td>Blue</td>\n      <td>Spring</td>\n      <td>2017.0</td>\n      <td>Casual</td>\n      <td>Rasasi Women Blue Lady Perfume</td>\n      <td>data/images/46694.jpg</td>\n      <td>data/new/46694_Women_Personal Care_Fragrance_P...</td>\n    </tr>\n    <tr>\n      <th>44423</th>\n      <td>51623</td>\n      <td>Women</td>\n      <td>Accessories</td>\n      <td>Watches</td>\n      <td>Watches</td>\n      <td>Pink</td>\n      <td>Winter</td>\n      <td>2016.0</td>\n      <td>Casual</td>\n      <td>Fossil Women Pink Dial Chronograph Watch ES3050</td>\n      <td>data/images/51623.jpg</td>\n      <td>data/new/51623_Women_Accessories_Watches_Watch...</td>\n    </tr>\n  </tbody>\n</table>\n<p>44424 rows × 12 columns</p>\n</div>"
     },
     "execution_count": 6,
     "metadata": {},
     "output_type": "execute_result"
    }
   ],
   "source": [
    "df"
   ]
  },
  {
   "cell_type": "code",
   "execution_count": 7,
   "metadata": {
    "ExecuteTime": {
     "end_time": "2024-01-13T12:32:06.239392200Z",
     "start_time": "2024-01-13T12:25:59.631121700Z"
    }
   },
   "outputs": [],
   "source": [
    "for i, a in df.iterrows():\n",
    "    try:\n",
    "        shutil.copy(src=a.path, dst=a.new_path)\n",
    "    except:\n",
    "        continue"
   ]
  },
  {
   "cell_type": "code",
   "execution_count": 7,
   "metadata": {
    "ExecuteTime": {
     "end_time": "2024-01-13T12:32:06.252702700Z",
     "start_time": "2024-01-13T12:32:06.239392200Z"
    }
   },
   "outputs": [],
   "source": []
  },
  {
   "cell_type": "code",
   "execution_count": 7,
   "metadata": {
    "ExecuteTime": {
     "end_time": "2024-01-13T12:32:06.252702700Z",
     "start_time": "2024-01-13T12:32:06.242654600Z"
    }
   },
   "outputs": [],
   "source": []
  }
 ],
 "metadata": {
  "kernelspec": {
   "display_name": "dm",
   "language": "python",
   "name": "python3"
  },
  "language_info": {
   "codemirror_mode": {
    "name": "ipython",
    "version": 3
   },
   "file_extension": ".py",
   "mimetype": "text/x-python",
   "name": "python",
   "nbconvert_exporter": "python",
   "pygments_lexer": "ipython3",
   "version": "3.11.5"
  }
 },
 "nbformat": 4,
 "nbformat_minor": 2
}
